{
 "cells": [
  {
   "cell_type": "code",
   "execution_count": 1,
   "metadata": {},
   "outputs": [],
   "source": [
    "import matplotlib.pyplot as plt\n",
    "import numpy as np\n",
    "%matplotlib tk\n",
    "import pandas as pd\n",
    "from matplotlib.cbook import get_sample_data\n",
    "\n",
    "M= pd.read_csv('Medals.csv')\n",
    "C= pd.read_csv('Countries.csv')\n",
    "\n",
    "MC=M[['Year','Country_Name','Bendras']]\n",
    "Y=MC[MC['Year'].between(1992, 2020)]\n",
    "\n",
    "MCLit=Y[Y['Country_Name'] == 'Lithuania']\n",
    "Lit=MCLit['Bendras'].values\n",
    "Year=MCLit['Year'].values\n",
    "s=np.sum(Lit)\n",
    "\n",
    "\n",
    "MCLat=Y[Y['Country_Name'] == 'Latvia']\n",
    "Lat=MCLat['Bendras'].values\n",
    "YearL=MCLat['Year'].values\n",
    "s1=np.sum(Lat)\n",
    "\n",
    "MCEst=Y[Y['Country_Name'] == 'Estonia']\n",
    "Est=MCEst['Bendras'].values\n",
    "YearE=MCEst['Year'].values\n",
    "s2=np.sum(Est)\n",
    "\n",
    "\n",
    "fig, g= plt.subplots()\n",
    "a1=g.bar(Year-.8, Lit, color='#006A44', label='Lietuva (Viso gautų medalių- {})'.format(s))\n",
    "a2=g.bar(YearL, Lat, color='#9D2235',label='Latvija (Viso gautų medalių- {})'.format(s1))\n",
    "a3=g.bar(YearE+0.8, Est, color= '#0072ce', label='Estija (Viso gautų medalių- {})'.format(s2))\n",
    "g.set_xticks(Year)\n",
    "fig.suptitle('Baltijos šalių medalių skaičius vasaros olimpiadose (1992m-2020m)', fontsize=14)\n",
    "\n",
    "\n",
    "g.bar_label(a1)\n",
    "g.bar_label(a2)\n",
    "g.bar_label(a3)\n",
    "\n",
    "g.set_xlabel('Olimpiados metai', fontsize=12) \n",
    "g.set_ylabel('Gauti medaliai', fontsize=12) \n",
    "plt.legend(loc='upper right')\n",
    "plt.tight_layout()\n",
    "fig.canvas.manager.set_window_title('Fig.1')\n",
    "\n",
    "im = plt.imread(get_sample_data('C:\\\\ProgramData\\\\MySQL\\\\MySQL Server 8.0\\\\Uploads\\\\O4.png'))\n",
    "newax = fig.add_axes([0, 0.9, 0.1, 0.1], zorder=0)\n",
    "newax.imshow(im)\n",
    "newax.axis('off')\n",
    "plt.show()"
   ]
  }
 ],
 "metadata": {
  "interpreter": {
   "hash": "b89b5cfaba6639976dc87ff2fec6d58faec662063367e2c229c520fe71072417"
  },
  "kernelspec": {
   "display_name": "Python 3.10.2 64-bit",
   "language": "python",
   "name": "python3"
  },
  "language_info": {
   "codemirror_mode": {
    "name": "ipython",
    "version": 3
   },
   "file_extension": ".py",
   "mimetype": "text/x-python",
   "name": "python",
   "nbconvert_exporter": "python",
   "pygments_lexer": "ipython3",
   "version": "3.10.2"
  },
  "orig_nbformat": 4
 },
 "nbformat": 4,
 "nbformat_minor": 2
}
